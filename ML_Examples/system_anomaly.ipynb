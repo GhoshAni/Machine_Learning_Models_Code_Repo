{
 "cells": [
  {
   "cell_type": "code",
   "execution_count": 8,
   "metadata": {},
   "outputs": [],
   "source": [
    "import numpy as np\n",
    "import pandas as pd\n",
    "import matplotlib\n",
    "import os\n",
    "import datetime\n",
    "from datetime import date\n",
    "from datetime import time\n",
    "from datetime import datetime\n",
    "import seaborn as sns\n",
    "path = 'C:/Users/anirima.ghosh/Documents/system'\n",
    "os.chdir(path)\n",
    "os.getcwd()\n",
    "normal  = pd.read_csv('Genesis_normal.csv', sep =',')\n",
    "anomaly = pd.read_csv('Genesis_lineardrive.csv',sep = ',')\n",
    "data = pd.read_csv('data.csv', sep = ',')\n",
    "normal['label1']= normal['label'].factorize()[0]\n",
    "anomaly['label1'] = anomaly['label'].factorize()[0]\n",
    "data['label1'] = data['label'].factorize()[0]\n",
    "\n"
   ]
  },
  {
   "cell_type": "code",
   "execution_count": null,
   "metadata": {},
   "outputs": [],
   "source": [
    "#normal.dtypes\n",
    "#MotorData.ActCurrent \n",
    "#MotorData.IsForce\n",
    "#MotorData.Motor_Pos4reached\n",
    "#MotorData.SetCurrent\n",
    "#MotorData.SetForce\n",
    "#MotorData.SetSpeed\n",
    "#NVL_Recv_Storage.GL_X_TimeSlideIn\n",
    "#NVL_Recv_Storage.GL_X_TimeSlideOut\n",
    "#normal anomaly data\n",
    "\n",
    "########################\n",
    "import seaborn as sns\n",
    "from matplotlib import pyplot as plt\n",
    "%matplotlib inline\n",
    "f = plt.figure(figsize=(10,6))\n",
    "ax = sns.distplot(normal['NVL_Recv_Storage.GL_X_TimeSlideOut'])\n",
    "f.savefig(\"GL_X_TimeSlideOut_normal.png\", bbox_inches='tight')\n",
    "############################\n",
    "import seaborn as sns\n",
    "from matplotlib import pyplot as plt\n",
    "%matplotlib inline\n",
    "f = plt.figure(figsize=(10,6))\n",
    "ax = sns.distplot(anomaly['NVL_Recv_Storage.GL_X_TimeSlideOut'])\n",
    "f.savefig(\"NVL_Recv_Storage.GL_X_TimeSlideOut_anomaly.png\", bbox_inches='tight')\n",
    "\n",
    "import seaborn as sns\n",
    "from matplotlib import pyplot as plt\n",
    "ax = data1.plot(kind = 'box', subplots = True, layout = (3,3), sharex = False, sharey = False, figsize = (15,10))\n",
    "pyplot.show()\n",
    "\n",
    "import seaborn as sns\n",
    "from matplotlib import pyplot as plt\n",
    "\n",
    "ax = normal1.plot(kind = 'box', subplots= True, layout = (3,3), sharex = False, sharey = False, figsize = (15,10))\n",
    "pyplot.show()\n",
    "f.savefig(\"box plot for normal.png\", bbox_inches = 'tight' )\n",
    "\n",
    "sns.boxplot(data= data1, x = 'NVL_Recv_Storage.GL_X_TimeSlideOut')\n",
    "plt.show()"
   ]
  },
  {
   "cell_type": "code",
   "execution_count": 9,
   "metadata": {},
   "outputs": [],
   "source": [
    "## detect outliers\n",
    "\n",
    "names = ['MotorData.ActCurrent', 'MotorData.IsForce', 'MotorData.Motor_Pos4reached','MotorData.SetCurrent', 'MotorData.SetForce',\n",
    "        'MotorData.SetSpeed', 'NVL_Recv_Storage.GL_X_TimeSlideIn','NVL_Recv_Storage.GL_X_TimeSlideOut']\n",
    "normal1 = normal[names]\n",
    "anomaly1 = anomaly[names]\n",
    "data1 = data[names]\n"
   ]
  },
  {
   "cell_type": "code",
   "execution_count": 5,
   "metadata": {},
   "outputs": [
    {
     "data": {
      "text/plain": [
       "MotorData.ActCurrent                  int64\n",
       "MotorData.IsForce                     int64\n",
       "MotorData.Motor_Pos4reached           int64\n",
       "MotorData.SetCurrent                  int64\n",
       "MotorData.SetForce                    int64\n",
       "MotorData.SetSpeed                    int64\n",
       "NVL_Recv_Storage.GL_X_TimeSlideIn     int64\n",
       "NVL_Recv_Storage.GL_X_TimeSlideOut    int64\n",
       "dtype: object"
      ]
     },
     "execution_count": 5,
     "metadata": {},
     "output_type": "execute_result"
    }
   ],
   "source": [
    "normal1.dtypes"
   ]
  },
  {
   "cell_type": "code",
   "execution_count": 10,
   "metadata": {},
   "outputs": [],
   "source": [
    "from sklearn.preprocessing import StandardScaler\n",
    "df = StandardScaler().fit(data1)\n",
    "df_final = df.transform(data1)\n",
    "imputed_df = pd.DataFrame(df_final, columns = data1.columns)\n",
    "target = data['label']\n",
    "final_df = pd.concat([target, imputed_df], axis = 1 )"
   ]
  },
  {
   "cell_type": "code",
   "execution_count": 11,
   "metadata": {},
   "outputs": [
    {
     "name": "stdout",
     "output_type": "stream",
     "text": [
      "58.62140486725663\n"
     ]
    }
   ],
   "source": [
    "## leave one out cross validation\n",
    "from sklearn.model_selection import LeaveOneOut\n",
    "from sklearn.model_selection import cross_val_score\n",
    "from sklearn.linear_model import LogisticRegression\n",
    "\n",
    "array = final_df.values\n",
    "Y = array[:,0]\n",
    "X = array[:,1:8]\n",
    "loocv = LeaveOneOut()\n",
    "model = LogisticRegression()\n",
    "results = cross_val_score(model, X, Y, cv=loocv)\n",
    "print((results.mean()*100.0))\n",
    "\n"
   ]
  },
  {
   "cell_type": "code",
   "execution_count": 12,
   "metadata": {},
   "outputs": [
    {
     "data": {
      "text/plain": [
       "label                                   int64\n",
       "MotorData.ActCurrent                  float64\n",
       "MotorData.IsForce                     float64\n",
       "MotorData.Motor_Pos4reached           float64\n",
       "MotorData.SetCurrent                  float64\n",
       "MotorData.SetForce                    float64\n",
       "MotorData.SetSpeed                    float64\n",
       "NVL_Recv_Storage.GL_X_TimeSlideIn     float64\n",
       "NVL_Recv_Storage.GL_X_TimeSlideOut    float64\n",
       "dtype: object"
      ]
     },
     "execution_count": 12,
     "metadata": {},
     "output_type": "execute_result"
    }
   ],
   "source": [
    "final_df.dtypes"
   ]
  },
  {
   "cell_type": "code",
   "execution_count": null,
   "metadata": {},
   "outputs": [],
   "source": [
    "\n"
   ]
  },
  {
   "cell_type": "code",
   "execution_count": 103,
   "metadata": {},
   "outputs": [],
   "source": [
    "from sklearn.feature_selection import RFE\n",
    "from sklearn.linear_model import LogisticRegression\n",
    "model = LogisticRegression()\n",
    "rfe = RFE(model,8 )\n",
    "fit = rfe.fit(X, Y)\n"
   ]
  },
  {
   "cell_type": "code",
   "execution_count": 13,
   "metadata": {},
   "outputs": [
    {
     "name": "stdout",
     "output_type": "stream",
     "text": [
      "0.5711786398467432\n"
     ]
    }
   ],
   "source": [
    "from sklearn.model_selection import KFold\n",
    "from sklearn.model_selection import  cross_val_score\n",
    "from sklearn.linear_model import LogisticRegression\n",
    "array = final_df.values\n",
    "Y = array[:,0]\n",
    "X = array[:,1:8]\n",
    "num_fold = 10\n",
    "kfold = KFold(n_splits = 100, random_state = 7)\n",
    "model = LogisticRegression()\n",
    "results = cross_val_score(model, X, Y, cv = kfold )\n",
    "print(results.mean())"
   ]
  },
  {
   "cell_type": "code",
   "execution_count": 14,
   "metadata": {},
   "outputs": [
    {
     "name": "stdout",
     "output_type": "stream",
     "text": [
      "0.5588999042145594\n"
     ]
    }
   ],
   "source": [
    "from sklearn.model_selection import KFold\n",
    "from sklearn.model_selection import  cross_val_score\n",
    "from sklearn.discriminant_analysis import LinearDiscriminantAnalysis\n",
    "array = final_df.values\n",
    "Y = array[:,0]\n",
    "X = array[:,1:8]\n",
    "num_fold = 10\n",
    "kfold = KFold(n_splits = 100, random_state = 70)\n",
    "model = LinearDiscriminantAnalysis()\n",
    "results = cross_val_score(model, X, Y, cv = kfold )\n",
    "print(results.mean())"
   ]
  },
  {
   "cell_type": "code",
   "execution_count": 13,
   "metadata": {},
   "outputs": [
    {
     "name": "stdout",
     "output_type": "stream",
     "text": [
      "0.8724909003831418\n"
     ]
    }
   ],
   "source": [
    "from sklearn.model_selection import KFold\n",
    "from sklearn.model_selection import  cross_val_score\n",
    "from sklearn.neighbors import KNeighborsClassifier\n",
    "array = final_df.values\n",
    "Y = array[:,0]\n",
    "X = array[:,1:8]\n",
    "num_fold = 10\n",
    "kfold = KFold(n_splits = 100, random_state = 70)\n",
    "model = KNeighborsClassifier()\n",
    "results = cross_val_score(model, X, Y, cv = kfold )\n",
    "print(results.mean())"
   ]
  },
  {
   "cell_type": "code",
   "execution_count": 14,
   "metadata": {},
   "outputs": [
    {
     "name": "stdout",
     "output_type": "stream",
     "text": [
      "0.8040038314176244\n"
     ]
    }
   ],
   "source": [
    "from sklearn.model_selection import KFold\n",
    "from sklearn.model_selection import cross_val_score\n",
    "from sklearn.svm import SVC\n",
    "array = final_df.values\n",
    "Y = array[:,0]\n",
    "X = array[:,1:8]\n",
    "kfold = KFold(n_splits= 100, random_state= 70)\n",
    "model = SVC()\n",
    "results = cross_val_score(model, X,Y, cv = kfold)\n",
    "print(results.mean())"
   ]
  },
  {
   "cell_type": "code",
   "execution_count": 16,
   "metadata": {},
   "outputs": [],
   "source": [
    "cols = ['MotorData.ActCurrent', 'MotorData.IsForce', 'MotorData.Motor_Pos4reached','MotorData.SetCurrent', 'MotorData.SetForce',\n",
    "        'MotorData.SetSpeed', 'NVL_Recv_Storage.GL_X_TimeSlideIn','NVL_Recv_Storage.GL_X_TimeSlideOut']\n",
    "\n",
    "X = final_df[cols]\n",
    "Y = final_df['label']\n"
   ]
  },
  {
   "cell_type": "code",
   "execution_count": 17,
   "metadata": {},
   "outputs": [
    {
     "name": "stdout",
     "output_type": "stream",
     "text": [
      "Accuracy of KNN classifier on test set: 0.90\n"
     ]
    }
   ],
   "source": [
    "from sklearn.neighbors import KNeighborsClassifier\n",
    "from sklearn.model_selection import train_test_split\n",
    "from sklearn import metrics\n",
    "\n",
    "X_train, X_test, Y_train, Y_test =train_test_split(X,Y, test_size = 0.3, random_state = 0)\n",
    "knn = KNeighborsClassifier(n_neighbors= 5, leaf_size= 50)\n",
    "knn.fit(X_train, Y_train)\n",
    "Y_pred = knn.predict(X_test)\n",
    "print('Accuracy of KNN classifier on test set: {:.2f}'.format(knn.score(X_test, Y_test)))\n"
   ]
  },
  {
   "cell_type": "code",
   "execution_count": 22,
   "metadata": {},
   "outputs": [
    {
     "name": "stdout",
     "output_type": "stream",
     "text": [
      "[[1872  209]\n",
      " [ 214 2045]]\n",
      "             precision    recall  f1-score   support\n",
      "\n",
      "          0       0.90      0.90      0.90      2081\n",
      "          1       0.91      0.91      0.91      2259\n",
      "\n",
      "avg / total       0.90      0.90      0.90      4340\n",
      "\n"
     ]
    },
    {
     "data": {
      "text/plain": [
       "label                                   int64\n",
       "MotorData.ActCurrent                  float64\n",
       "MotorData.IsForce                     float64\n",
       "MotorData.Motor_Pos4reached           float64\n",
       "MotorData.SetCurrent                  float64\n",
       "MotorData.SetForce                    float64\n",
       "MotorData.SetSpeed                    float64\n",
       "NVL_Recv_Storage.GL_X_TimeSlideIn     float64\n",
       "NVL_Recv_Storage.GL_X_TimeSlideOut    float64\n",
       "dtype: object"
      ]
     },
     "execution_count": 22,
     "metadata": {},
     "output_type": "execute_result"
    }
   ],
   "source": [
    "## metrics of the classifier\n",
    "from sklearn.metrics import confusion_matrix\n",
    "from sklearn.metrics import classification_report\n",
    "confusion_matrix = confusion_matrix(Y_test, Y_pred)\n",
    "print(confusion_matrix)\n",
    "print (classification_report(Y_test, Y_pred))\n"
   ]
  },
  {
   "cell_type": "code",
   "execution_count": 19,
   "metadata": {},
   "outputs": [
    {
     "data": {
      "text/plain": [
       "<matplotlib.legend.Legend at 0x21b5203c908>"
      ]
     },
     "execution_count": 19,
     "metadata": {},
     "output_type": "execute_result"
    },
    {
     "data": {
      "image/png": "[encoded data removed]",
      "text/plain": [
       "<Figure size 432x288 with 1 Axes>"
      ]
     },
     "metadata": {},
     "output_type": "display_data"
    }
   ],
   "source": [
    "##ROC  Curve\n",
    "from sklearn.metrics import roc_auc_score\n",
    "from sklearn.metrics import roc_curve\n",
    "from matplotlib import pyplot as plt\n",
    "knn_roc_auc = roc_auc_score(Y_test, knn.predict(X_test))\n",
    "fpr, tpr, thresolds = roc_curve(Y_test, knn.predict_proba(X_test)[:,1])\n",
    "plt.figure()\n",
    "plt.plot(fpr, tpr, label = 'KNN- Classifier(area = %0.2f)'% knn_roc_auc)\n",
    "plt.plot([0, 1], [0, 1],'r--')\n",
    "plt.xlim([0.0, 1.0])\n",
    "plt.ylim([0.0, 1.05])\n",
    "plt.xlabel('False Positive Rate')\n",
    "plt.ylabel('True Positive Rate')\n",
    "plt.title('Receiver operating characteristic')\n",
    "plt.legend(loc=\"lower right\")\n",
    "#plt.savefig('C:/Users/anirima.ghosh/Documents/system/knn_roc.png')\n"
   ]
  },
  {
   "cell_type": "code",
   "execution_count": 20,
   "metadata": {},
   "outputs": [
    {
     "name": "stdout",
     "output_type": "stream",
     "text": [
      "Optimization terminated successfully.\n",
      "         Current function value: 0.663103\n",
      "         Iterations 9\n",
      "                                  Results: Logit\n",
      "==================================================================================\n",
      "Model:                    Logit                 Pseudo R-squared:      0.043      \n",
      "Dependent Variable:       label                 AIC:                   13442.5103 \n",
      "Date:                     2018-10-31 11:33      BIC:                   13500.2917 \n",
      "No. Observations:         10124                 Log-Likelihood:        -6713.3    \n",
      "Df Model:                 7                     LL-Null:               -7015.3    \n",
      "Df Residuals:             10116                 LLR p-value:           3.1229e-126\n",
      "Converged:                1.0000                Scale:                 1.0000     \n",
      "No. Iterations:           9.0000                                                  \n",
      "----------------------------------------------------------------------------------\n",
      "                                    Coef.  Std.Err.    z    P>|z|   [0.025  0.975]\n",
      "----------------------------------------------------------------------------------\n",
      "MotorData.ActCurrent               -0.2469   0.0648 -3.8105 0.0001 -0.3739 -0.1199\n",
      "MotorData.IsForce                  -0.1727   0.0681 -2.5359 0.0112 -0.3061 -0.0392\n",
      "MotorData.Motor_Pos4reached         0.3879   0.0250 15.4999 0.0000  0.3389  0.4370\n",
      "MotorData.SetCurrent               -0.1398   0.0509 -2.7459 0.0060 -0.2396 -0.0400\n",
      "MotorData.SetForce                 -0.0132   0.0528 -0.2502 0.8024 -0.1167  0.0902\n",
      "MotorData.SetSpeed                  0.2412   0.0365  6.6012 0.0000  0.1696  0.3128\n",
      "NVL_Recv_Storage.GL_X_TimeSlideIn  -0.8459   0.1637 -5.1674 0.0000 -1.1667 -0.5250\n",
      "NVL_Recv_Storage.GL_X_TimeSlideOut  0.1390   0.0204  6.8160 0.0000  0.0990  0.1790\n",
      "==================================================================================\n",
      "\n"
     ]
    }
   ],
   "source": [
    "# plot\n",
    "import statsmodels.api as sm\n",
    "logit_model = sm.Logit(Y_train, X_train)\n",
    "result = logit_model.fit()\n",
    "print(result.summary2())"
   ]
  },
  {
   "cell_type": "code",
   "execution_count": 26,
   "metadata": {},
   "outputs": [
    {
     "data": {
      "text/html": [
       "<div>\n",
       "<style scoped>\n",
       "    .dataframe tbody tr th:only-of-type {\n",
       "        vertical-align: middle;\n",
       "    }\n",
       "\n",
       "    .dataframe tbody tr th {\n",
       "        vertical-align: top;\n",
       "    }\n",
       "\n",
       "    .dataframe thead th {\n",
       "        text-align: right;\n",
       "    }\n",
       "</style>\n",
       "<table border=\"1\" class=\"dataframe\">\n",
       "  <thead>\n",
       "    <tr style=\"text-align: right;\">\n",
       "      <th></th>\n",
       "      <th>label</th>\n",
       "      <th>MotorData.ActCurrent</th>\n",
       "      <th>MotorData.IsForce</th>\n",
       "      <th>MotorData.Motor_Pos4reached</th>\n",
       "      <th>MotorData.SetCurrent</th>\n",
       "      <th>MotorData.SetForce</th>\n",
       "      <th>MotorData.SetSpeed</th>\n",
       "      <th>NVL_Recv_Storage.GL_X_TimeSlideIn</th>\n",
       "      <th>NVL_Recv_Storage.GL_X_TimeSlideOut</th>\n",
       "      <th>label1</th>\n",
       "    </tr>\n",
       "  </thead>\n",
       "  <tbody>\n",
       "    <tr>\n",
       "      <th>0</th>\n",
       "      <td>0</td>\n",
       "      <td>0.753327</td>\n",
       "      <td>0.758604</td>\n",
       "      <td>1.810881</td>\n",
       "      <td>0.739101</td>\n",
       "      <td>0.73123</td>\n",
       "      <td>0.088075</td>\n",
       "      <td>8.958637</td>\n",
       "      <td>0.549464</td>\n",
       "      <td>no</td>\n",
       "    </tr>\n",
       "    <tr>\n",
       "      <th>1</th>\n",
       "      <td>0</td>\n",
       "      <td>0.745941</td>\n",
       "      <td>0.750188</td>\n",
       "      <td>1.810881</td>\n",
       "      <td>0.739101</td>\n",
       "      <td>0.73123</td>\n",
       "      <td>0.088075</td>\n",
       "      <td>8.958637</td>\n",
       "      <td>0.549464</td>\n",
       "      <td>no</td>\n",
       "    </tr>\n",
       "    <tr>\n",
       "      <th>2</th>\n",
       "      <td>0</td>\n",
       "      <td>0.745941</td>\n",
       "      <td>0.750188</td>\n",
       "      <td>1.810881</td>\n",
       "      <td>0.739101</td>\n",
       "      <td>0.73123</td>\n",
       "      <td>0.088075</td>\n",
       "      <td>8.958637</td>\n",
       "      <td>0.549464</td>\n",
       "      <td>no</td>\n",
       "    </tr>\n",
       "    <tr>\n",
       "      <th>3</th>\n",
       "      <td>0</td>\n",
       "      <td>0.769947</td>\n",
       "      <td>0.758604</td>\n",
       "      <td>1.810881</td>\n",
       "      <td>0.739101</td>\n",
       "      <td>0.73123</td>\n",
       "      <td>0.088075</td>\n",
       "      <td>8.958637</td>\n",
       "      <td>0.549464</td>\n",
       "      <td>no</td>\n",
       "    </tr>\n",
       "    <tr>\n",
       "      <th>4</th>\n",
       "      <td>0</td>\n",
       "      <td>0.753327</td>\n",
       "      <td>0.750188</td>\n",
       "      <td>1.810881</td>\n",
       "      <td>0.739101</td>\n",
       "      <td>0.73123</td>\n",
       "      <td>0.088075</td>\n",
       "      <td>8.958637</td>\n",
       "      <td>0.549464</td>\n",
       "      <td>no</td>\n",
       "    </tr>\n",
       "  </tbody>\n",
       "</table>\n",
       "</div>"
      ],
      "text/plain": [
       "   label  MotorData.ActCurrent  MotorData.IsForce  \\\n",
       "0      0              0.753327           0.758604   \n",
       "1      0              0.745941           0.750188   \n",
       "2      0              0.745941           0.750188   \n",
       "3      0              0.769947           0.758604   \n",
       "4      0              0.753327           0.750188   \n",
       "\n",
       "   MotorData.Motor_Pos4reached  MotorData.SetCurrent  MotorData.SetForce  \\\n",
       "0                     1.810881              0.739101             0.73123   \n",
       "1                     1.810881              0.739101             0.73123   \n",
       "2                     1.810881              0.739101             0.73123   \n",
       "3                     1.810881              0.739101             0.73123   \n",
       "4                     1.810881              0.739101             0.73123   \n",
       "\n",
       "   MotorData.SetSpeed  NVL_Recv_Storage.GL_X_TimeSlideIn  \\\n",
       "0            0.088075                           8.958637   \n",
       "1            0.088075                           8.958637   \n",
       "2            0.088075                           8.958637   \n",
       "3            0.088075                           8.958637   \n",
       "4            0.088075                           8.958637   \n",
       "\n",
       "   NVL_Recv_Storage.GL_X_TimeSlideOut label1  \n",
       "0                            0.549464     no  \n",
       "1                            0.549464     no  \n",
       "2                            0.549464     no  \n",
       "3                            0.549464     no  \n",
       "4                            0.549464     no  "
      ]
     },
     "execution_count": 26,
     "metadata": {},
     "output_type": "execute_result"
    }
   ],
   "source": [
    "final_df.head()\n",
    "\n",
    "#final_df['label1'] = np.where(final_df['label']== 1, 'yes', 'no')"
   ]
  },
  {
   "cell_type": "code",
   "execution_count": 29,
   "metadata": {},
   "outputs": [
    {
     "data": {
      "image/png": "[encoded data removed]",
      "text/plain": [
       "<Figure size 360x360 with 1 Axes>"
      ]
     },
     "metadata": {},
     "output_type": "display_data"
    }
   ],
   "source": [
    "##  MotorData.ActCurrent\n",
    "##  MotorData.SetCurrent\n",
    "##  MotorData.SetSpeed\n",
    "##  NVL_Recv_Storage.GL_X_TimeSlideIn\n",
    "##  NVL_Recv_Storage.GL_X_TimeSlideOut\n",
    "import numpy as np\n",
    "import pandas as pd\n",
    "import seaborn as sns\n",
    "import matplotlib\n",
    "from matplotlib import pyplot as plt\n",
    "\n",
    "plt = sns.catplot( x= 'label1' , y = \"MotorData.ActCurrent\", data = final_df, kind = 'boxen')\n",
    "#plt.show()\n",
    "plt.savefig('C:/Users/anirima.ghosh/Documents/system/ActCurrent.png', bbox_inches = 'tight')"
   ]
  },
  {
   "cell_type": "code",
   "execution_count": 28,
   "metadata": {},
   "outputs": [
    {
     "data": {
      "image/png": "[encoded data removed]",
      "text/plain": [
       "<Figure size 360x360 with 1 Axes>"
      ]
     },
     "metadata": {},
     "output_type": "display_data"
    },
    {
     "data": {
      "text/plain": [
       "<Figure size 432x288 with 0 Axes>"
      ]
     },
     "metadata": {},
     "output_type": "display_data"
    }
   ],
   "source": [
    "##  MotorData.ActCurrent\n",
    "##  MotorData.SetCurrent\n",
    "##  MotorData.SetSpeed\n",
    "##  NVL_Recv_Storage.GL_X_TimeSlideIn\n",
    "##  NVL_Recv_Storage.GL_X_TimeSlideOut\n",
    "import numpy as np\n",
    "import pandas as pd\n",
    "import seaborn as sns\n",
    "import matplotlib\n",
    "from matplotlib import pyplot as plt\n",
    "#final_df['label2'] = np.where(final_df['label']== 1, 'yes', 'no')\n",
    "plt = sns.catplot( x= 'label1' , y = \"MotorData.ActCurrent\", data = final_df, kind = \"violin\")\n",
    "#plt.show()\n",
    "plt.savefig('C:/Users/anirima.ghosh/Documents/system/ActCurrent_violin.png', bbox_inches='tight')"
   ]
  },
  {
   "cell_type": "code",
   "execution_count": 19,
   "metadata": {},
   "outputs": [
    {
     "data": {
      "image/png": "[encoded data removed]",
      "text/plain": [
       "<Figure size 360x360 with 1 Axes>"
      ]
     },
     "metadata": {},
     "output_type": "display_data"
    }
   ],
   "source": [
    "import numpy as np\n",
    "import pandas as pd\n",
    "import seaborn as sns\n",
    "import matplotlib\n",
    "from matplotlib import pyplot as plt\n",
    "\n",
    "sns.catplot(x=\"label1\", y=\"MotorData.ActCurrent\", kind=\"boxen\", data = final_df)\n",
    "            \n",
    "plt.show()"
   ]
  },
  {
   "cell_type": "code",
   "execution_count": 32,
   "metadata": {},
   "outputs": [
    {
     "data": {
      "image/png": "[encoded data removed]",
      "text/plain": [
       "<Figure size 360x360 with 1 Axes>"
      ]
     },
     "metadata": {},
     "output_type": "display_data"
    }
   ],
   "source": [
    "import numpy as np\n",
    "import pandas as pd\n",
    "import seaborn as sns\n",
    "import matplotlib\n",
    "from matplotlib import pyplot as plt\n",
    "\n",
    "plt = sns.catplot(x=\"label1\", y=\"NVL_Recv_Storage.GL_X_TimeSlideOut\", kind=\"boxen\", data = final_df)\n",
    "            \n",
    "#plt.show()\n",
    "plt.savefig('C:/Users/anirima.ghosh/Documents/system/GL_X_TimeSlideOut.png', bbox_inches='tight')"
   ]
  },
  {
   "cell_type": "code",
   "execution_count": 7,
   "metadata": {},
   "outputs": [],
   "source": [
    "final_df['label1'] = np.where(final_df['label'] == 1, 'yes', 'no')"
   ]
  },
  {
   "cell_type": "code",
   "execution_count": 35,
   "metadata": {},
   "outputs": [
    {
     "data": {
      "image/png": "[encoded data removed]",
      "text/plain": [
       "<Figure size 360x360 with 1 Axes>"
      ]
     },
     "metadata": {},
     "output_type": "display_data"
    }
   ],
   "source": [
    "import numpy as np\n",
    "import pandas as pd\n",
    "import seaborn as sns\n",
    "import matplotlib\n",
    "from matplotlib import pyplot as plt\n",
    "\n",
    "\n",
    "plt = sns.catplot(x=\"label1\", y=\"MotorData.SetSpeed\", kind=\"boxen\", data = final_df)\n",
    "            \n",
    "#plt.show()\n",
    "plt.savefig('C:/Users/anirima.ghosh/Documents/system/SetSpeed.png', bbox_inches='tight')"
   ]
  },
  {
   "cell_type": "code",
   "execution_count": 37,
   "metadata": {},
   "outputs": [
    {
     "data": {
      "image/png": "[encoded data removed]",
      "text/plain": [
       "<Figure size 360x360 with 1 Axes>"
      ]
     },
     "metadata": {},
     "output_type": "display_data"
    }
   ],
   "source": [
    "import numpy as np\n",
    "import pandas as pd\n",
    "import seaborn as sns\n",
    "import matplotlib\n",
    "from matplotlib import pyplot as plt\n",
    "\n",
    "\n",
    "plt = sns.catplot(x=\"label1\", y=\"NVL_Recv_Storage.GL_X_TimeSlideIn\", kind=\"boxen\", data = final_df)\n",
    "            \n",
    "#plt.show()\n",
    "plt.savefig('C:/Users/anirima.ghosh/Documents/system/TimeSlideIn.png', bbox_inches='tight')"
   ]
  },
  {
   "cell_type": "code",
   "execution_count": 36,
   "metadata": {},
   "outputs": [
    {
     "data": {
      "text/plain": [
       "label                                   int64\n",
       "MotorData.ActCurrent                  float64\n",
       "MotorData.IsForce                     float64\n",
       "MotorData.Motor_Pos4reached           float64\n",
       "MotorData.SetCurrent                  float64\n",
       "MotorData.SetForce                    float64\n",
       "MotorData.SetSpeed                    float64\n",
       "NVL_Recv_Storage.GL_X_TimeSlideIn     float64\n",
       "NVL_Recv_Storage.GL_X_TimeSlideOut    float64\n",
       "label1                                 object\n",
       "dtype: object"
      ]
     },
     "execution_count": 36,
     "metadata": {},
     "output_type": "execute_result"
    }
   ],
   "source": [
    "final_df.dtypes"
   ]
  },
  {
   "cell_type": "code",
   "execution_count": 38,
   "metadata": {},
   "outputs": [
    {
     "data": {
      "image/png": "[encoded data removed]",
      "text/plain": [
       "<Figure size 360x360 with 1 Axes>"
      ]
     },
     "metadata": {},
     "output_type": "display_data"
    }
   ],
   "source": [
    "import numpy as np\n",
    "import pandas as pd\n",
    "import seaborn as sns\n",
    "import matplotlib\n",
    "from matplotlib import pyplot as plt\n",
    "\n",
    "\n",
    "plt = sns.catplot(x=\"label1\", y=\"MotorData.SetForce\", kind=\"boxen\", data = final_df)\n",
    "            \n",
    "#plt.show()\n",
    "plt.savefig('C:/Users/anirima.ghosh/Documents/system/SetForce.png', bbox_inches='tight')"
   ]
  },
  {
   "cell_type": "markdown",
   "metadata": {},
   "source": [
    "## TRY ISOLATION FOREST FOR ANOMALY DETECTION\n",
    "from sklearn.ensemble import IsolationForest\n",
    "from sklearn.model_selection import train_test_split\n",
    "\n",
    "X_train, X_test, Y_train, Y_test = train_test_split(X, Y, test_size = 0.3, random_state = 0)\n",
    "clf = IsolationForest(n_estimators =100, max_samples = 200)\n",
    "y_pred_train = clf.fit(X_train)\n",
    "y_pred_test = clf.predict(X_test)\n",
    "print( \"accuracy\", list(y_pred_test).count(1)/y_pred_test.shape[0])"
   ]
  },
  {
   "cell_type": "code",
   "execution_count": 58,
   "metadata": {},
   "outputs": [
    {
     "name": "stdout",
     "output_type": "stream",
     "text": [
      "accuracy 0.8894009216589862\n"
     ]
    }
   ],
   "source": [
    "##TRY ISOLATION FOREST FOR ANOMALY DETECTION\n",
    "\n",
    "from sklearn.ensemble import IsolationForest\n",
    "from sklearn.model_selection import train_test_split\n",
    "\n",
    "X_train, X_test, Y_train, Y_test = train_test_split(X, Y, test_size = 0.3, random_state = 0) \n",
    "clf = IsolationForest(n_estimators =100, max_samples = 250) \n",
    "y_pred_train = clf.fit(X_train) \n",
    "y_pred_test = clf.predict(X_test)\n",
    "print( \"accuracy\", list(y_pred_test).count(1)/y_pred_test.shape[0])\n"
   ]
  },
  {
   "cell_type": "code",
   "execution_count": 77,
   "metadata": {},
   "outputs": [],
   "source": [
    "score_pred_train = clf.decision_function(X_train)\n",
    "score_pred_test = clf.decision_function(X_test)"
   ]
  },
  {
   "cell_type": "code",
   "execution_count": 79,
   "metadata": {},
   "outputs": [
    {
     "name": "stderr",
     "output_type": "stream",
     "text": [
      "C:\\Users\\anirima.ghosh\\AppData\\Local\\Continuum\\anaconda3\\lib\\site-packages\\ipykernel_launcher.py:1: SettingWithCopyWarning: \n",
      "A value is trying to be set on a copy of a slice from a DataFrame.\n",
      "Try using .loc[row_indexer,col_indexer] = value instead\n",
      "\n",
      "See the caveats in the documentation: http://pandas.pydata.org/pandas-docs/stable/indexing.html#indexing-view-versus-copy\n",
      "  \"\"\"Entry point for launching an IPython kernel.\n",
      "C:\\Users\\anirima.ghosh\\AppData\\Local\\Continuum\\anaconda3\\lib\\site-packages\\ipykernel_launcher.py:2: SettingWithCopyWarning: \n",
      "A value is trying to be set on a copy of a slice from a DataFrame.\n",
      "Try using .loc[row_indexer,col_indexer] = value instead\n",
      "\n",
      "See the caveats in the documentation: http://pandas.pydata.org/pandas-docs/stable/indexing.html#indexing-view-versus-copy\n",
      "  \n"
     ]
    }
   ],
   "source": [
    "X_train['anomaly_score'] = score_pred_train\n",
    "X_test['anomaly_score'] = score_pred_test\n",
    "\n"
   ]
  },
  {
   "cell_type": "code",
   "execution_count": 84,
   "metadata": {},
   "outputs": [],
   "source": [
    "X_train.to_csv('C:/Users/anirima.ghosh/Documents/system/X_train.csv', sep = ',')\n",
    "X_test.to_csv('C:/Users/anirima.ghosh/Documents/system/X_test.csv', sep = ',')\n",
    "Y_train.to_csv('C:/Users/anirima.ghosh/Documents/system/Y_train.csv', sep = ',')\n",
    "Y_test.to_csv('C:/Users/anirima.ghosh/Documents/system/Y_test.csv', sep = ',')"
   ]
  },
  {
   "cell_type": "code",
   "execution_count": 61,
   "metadata": {},
   "outputs": [],
   "source": [
    "cols = ['MotorData.ActCurrent', 'MotorData.IsForce', 'MotorData.Motor_Pos4reached','MotorData.SetCurrent', 'MotorData.SetForce',\n",
    "        'MotorData.SetSpeed', 'NVL_Recv_Storage.GL_X_TimeSlideIn','NVL_Recv_Storage.GL_X_TimeSlideOut', 'label']\n",
    "\n"
   ]
  },
  {
   "cell_type": "code",
   "execution_count": 64,
   "metadata": {},
   "outputs": [],
   "source": [
    "## TRY ISOLATION FOREST on the entire data set\n",
    "from sklearn.ensemble import IsolationForest\n",
    "clf1 = IsolationForest()\n",
    "y_pred = clf1.fit(final_df1)"
   ]
  },
  {
   "cell_type": "code",
   "execution_count": 67,
   "metadata": {},
   "outputs": [],
   "source": [
    "scores_pred = clf1.decision_function(final_df1)\n",
    "final_df1['anomaly_score'] = scores_pred\n"
   ]
  },
  {
   "cell_type": "code",
   "execution_count": 66,
   "metadata": {},
   "outputs": [
    {
     "data": {
      "text/plain": [
       "array([-0.0626153 , -0.06526123, -0.06526123, ...,  0.06206436,\n",
       "        0.06209472,  0.06209472])"
      ]
     },
     "execution_count": 66,
     "metadata": {},
     "output_type": "execute_result"
    }
   ],
   "source": [
    "scores_pred"
   ]
  },
  {
   "cell_type": "code",
   "execution_count": 68,
   "metadata": {},
   "outputs": [],
   "source": [
    "final_df1['label1'] = np.where(final_df1['label']== 1, 'yes', 'no')"
   ]
  },
  {
   "cell_type": "code",
   "execution_count": 70,
   "metadata": {},
   "outputs": [],
   "source": [
    "final_df1.to_csv('C:/Users/anirima.ghosh/Documents/system/system_anomaly.csv', sep = ',')"
   ]
  },
  {
   "cell_type": "code",
   "execution_count": 71,
   "metadata": {},
   "outputs": [],
   "source": [
    "# For convinience, divide the dataframe cc based on two labels. \n",
    "avg_count_0 = final_df1.loc[final_df1.label==0]    #Data frame with normal observation\n",
    "avg_count_1 = final_df1.loc[final_df1.label==1]    #Data frame with anomalous observation"
   ]
  },
  {
   "cell_type": "code",
   "execution_count": 72,
   "metadata": {},
   "outputs": [
    {
     "data": {
      "image/png": "[encoded data removed]",
      "text/plain": [
       "<Figure size 432x288 with 1 Axes>"
      ]
     },
     "metadata": {},
     "output_type": "display_data"
    }
   ],
   "source": [
    "#Plot the combined distribution of the scores \n",
    "%matplotlib inline\n",
    "import matplotlib.mlab as mlab\n",
    "import matplotlib.pyplot as plt\n",
    "\n",
    "normal = plt.hist(avg_count_0.anomaly_score, 50,)\n",
    "plt.xlabel('Score distribution')\n",
    "plt.ylabel('Frequency')\n",
    "plt.title(\"Distribution of isoforest score for normal observation\")\n",
    "plt.show()"
   ]
  },
  {
   "cell_type": "code",
   "execution_count": 73,
   "metadata": {},
   "outputs": [
    {
     "data": {
      "image/png": "[encoded data removed]",
      "text/plain": [
       "<Figure size 432x288 with 1 Axes>"
      ]
     },
     "metadata": {},
     "output_type": "display_data"
    }
   ],
   "source": [
    "#Plot the combined distribution of the scores \n",
    "%matplotlib inline\n",
    "import matplotlib.mlab as mlab\n",
    "import matplotlib.pyplot as plt\n",
    "\n",
    "normal = plt.hist(avg_count_1.anomaly_score, 50,)\n",
    "plt.xlabel('Score distribution')\n",
    "plt.ylabel('Frequency')\n",
    "plt.title(\"Distribution of isoforest score for anomalous observation\")\n",
    "plt.show()"
   ]
  },
  {
   "cell_type": "code",
   "execution_count": 75,
   "metadata": {},
   "outputs": [],
   "source": []
  },
  {
   "cell_type": "code",
   "execution_count": null,
   "metadata": {},
   "outputs": [],
   "source": []
  }
 ],
 "metadata": {
  "kernelspec": {
   "display_name": "Python 3",
   "language": "python",
   "name": "python3"
  },
  "language_info": {
   "codemirror_mode": {
    "name": "ipython",
    "version": 3
   },
   "file_extension": ".py",
   "mimetype": "text/x-python",
   "name": "python",
   "nbconvert_exporter": "python",
   "pygments_lexer": "ipython3",
   "version": "3.6.5"
  }
 },
 "nbformat": 4,
 "nbformat_minor": 2
}
