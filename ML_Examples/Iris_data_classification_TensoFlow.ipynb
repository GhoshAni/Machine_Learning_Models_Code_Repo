{
 "cells": [
  {
   "cell_type": "code",
   "execution_count": 142,
   "metadata": {
    "collapsed": true
   },
   "outputs": [],
   "source": [
    "import numpy as np\n",
    "import pandas as pd\n",
    "import tensorflow as tf"
   ]
  },
  {
   "cell_type": "code",
   "execution_count": 185,
   "metadata": {},
   "outputs": [],
   "source": [
    "# Download dataset and prepare data\n",
    "IRIS_TRAIN_URL = \"http://download.tensorflow.org/data/iris_training.csv\"  \n",
    "IRIS_TEST_URL = \"http://download.tensorflow.org/data/iris_test.csv\"\n",
    "names = ['sepal-length', 'sepal-width', 'petal-length', 'petal-width', 'species'] \n",
    "train = pd.read_csv(IRIS_TRAIN_URL, names = names, skiprows= 1)\n",
    "test = pd.read_csv(IRIS_TEST_URL, names = names, skiprows= 1)\n",
    "## train and test input data\n",
    "train_Y = pd.get_dummies(train.species)\n",
    "test_Y = pd.get_dummies(test.species)\n",
    "\n",
    "train_X = train.drop(\"species\", axis =1)\n",
    "test_X = test.drop(\"species\", axis = 1)"
   ]
  },
  {
   "cell_type": "code",
   "execution_count": 186,
   "metadata": {
    "collapsed": true
   },
   "outputs": [],
   "source": [
    "def get_next_batch(x, y, start, end):\n",
    "    batch_x = x[start:end]\n",
    "    batch_y = y[start:end]\n",
    "    return batch_x, batch_y"
   ]
  },
  {
   "cell_type": "code",
   "execution_count": 187,
   "metadata": {},
   "outputs": [
    {
     "data": {
      "text/plain": [
       "(120, 3)"
      ]
     },
     "execution_count": 187,
     "metadata": {},
     "output_type": "execute_result"
    }
   ],
   "source": [
    "train_X.head()\n",
    "train_Y.shape"
   ]
  },
  {
   "cell_type": "code",
   "execution_count": 201,
   "metadata": {
    "collapsed": true
   },
   "outputs": [],
   "source": [
    "## set the hyper parameters and network parameters\n",
    "learning_rate = 0.01\n",
    "training_epoch = 200\n",
    "display_step = 200\n",
    "batch_size = 120\n",
    "\n",
    "# network parameter  ## one hidden layer\n",
    "n_input = train_X.shape[1]\n",
    "n_hidden = 10\n",
    "n_classes = 3\n",
    "\n",
    "## graph unit\n",
    "X = tf.placeholder(\"float\", [None, n_input])\n",
    "Y = tf.placeholder(\"float\", [None, n_classes])"
   ]
  },
  {
   "cell_type": "code",
   "execution_count": 202,
   "metadata": {},
   "outputs": [],
   "source": [
    "## store weights and biases\n",
    "weights = {'h1':  tf.Variable(tf.random_normal([n_input, n_hidden])) ,\n",
    "           'out': tf.Variable(tf.random_normal([n_hidden, n_classes]))}\n",
    "\n",
    "biases = {'b1': tf.Variable(tf.random_normal([n_hidden])),\n",
    "          'out': tf.Variable(tf.random_normal([n_classes])) }"
   ]
  },
  {
   "cell_type": "code",
   "execution_count": 203,
   "metadata": {
    "collapsed": true
   },
   "outputs": [],
   "source": [
    "## create model\n",
    "def multilayer_percepton(x):\n",
    "    ## hidden fully connected layer\n",
    "    layer_1 = tf.nn.relu(tf.add(tf.matmul(x, weights['h1']), biases['b1']))\n",
    "    ## ouput layer\n",
    "    out_layer = tf.nn.relu(tf.add(tf.matmul(layer_1, weights['out']),biases['out'] ))\n",
    "    \n",
    "    return out_layer"
   ]
  },
  {
   "cell_type": "code",
   "execution_count": 204,
   "metadata": {},
   "outputs": [],
   "source": [
    "## construct model\n",
    "logits = multilayer_percepton(X)"
   ]
  },
  {
   "cell_type": "code",
   "execution_count": 205,
   "metadata": {
    "collapsed": true
   },
   "outputs": [],
   "source": [
    "## define loss and optimizer\n",
    "loss_op = tf.reduce_mean(tf.nn.softmax_cross_entropy_with_logits(logits = logits, labels= Y ))\n",
    "optimizer = tf.train.AdamOptimizer(learning_rate = learning_rate )\n",
    "train_op = optimizer.minimize(loss_op)"
   ]
  },
  {
   "cell_type": "code",
   "execution_count": 206,
   "metadata": {},
   "outputs": [
    {
     "name": "stdout",
     "output_type": "stream",
     "text": [
      "Epoch: 0001 cost=6.037530899\n",
      "Optimization Finished!\n",
      "---------------------------------------------------------\n",
      "Test loss: 0.53, test accuracy: 93.3%\n",
      "---------------------------------------------------------\n"
     ]
    }
   ],
   "source": [
    "## initialize the variable\n",
    "init = tf.global_variables_initializer()\n",
    "sess = tf.Session()\n",
    "sess.run(init)\n",
    "global_step = 0\n",
    "## training cycle\n",
    "for epoch in range(training_epoch):\n",
    "    avg_cost = 0 \n",
    "    total_batch = int(train_X.shape[0]/batch_size)\n",
    "    ## loop over batches\n",
    "    for iteration in range(total_batch):\n",
    "        global_step += 1\n",
    "        start = iteration * batch_size\n",
    "        end = (iteration + 1) * batch_size\n",
    "        batch_x, batch_y = get_next_batch(train_X, train_Y, start, end)\n",
    "        # Run optimization op (backprop) and cost op (to get loss value)\n",
    "        _, c = sess.run([train_op,loss_op], feed_dict= {X:batch_x, Y:batch_y})\n",
    "        ## compute avarage loss\n",
    "        avg_cost+= c/total_batch\n",
    "        ## display logs per epoch step \n",
    "        if epoch % display_step == 0:\n",
    "            print(\"Epoch:\", '%04d' % (epoch+1), \"cost={:.9f}\".format(avg_cost))\n",
    "print(\"Optimization Finished!\")\n",
    "\n",
    "## apply softmax to logits\n",
    "pred = tf.nn.softmax(logits)\n",
    "correct_prediction = tf.equal(tf.argmax(pred,1), tf.argmax(Y,1))\n",
    "accuracy = tf.reduce_mean(tf.cast(correct_prediction, tf.float32), name='accuracy')\n",
    "\n",
    "## test the network after training\n",
    "\n",
    "feed_dict_test = {X :test_X, Y:test_Y}\n",
    "loss_test, acc_test = sess.run([loss_op, accuracy], feed_dict=feed_dict_test)\n",
    "print('---------------------------------------------------------')\n",
    "print(\"Test loss: {0:.2f}, test accuracy: {1:.01%}\".format(loss_test, acc_test))\n",
    "print('---------------------------------------------------------')\n",
    "sess.close()\n",
    "\n",
    "\n",
    "## Test loss: 0.09, test accuracy: 93.3% -- epoch 200 learning rate = .01        \n",
    "        "
   ]
  },
  {
   "cell_type": "code",
   "execution_count": null,
   "metadata": {},
   "outputs": [],
   "source": []
  },
  {
   "cell_type": "code",
   "execution_count": null,
   "metadata": {},
   "outputs": [],
   "source": []
  },
  {
   "cell_type": "code",
   "execution_count": null,
   "metadata": {},
   "outputs": [],
   "source": []
  },
  {
   "cell_type": "code",
   "execution_count": null,
   "metadata": {
    "collapsed": true
   },
   "outputs": [],
   "source": []
  },
  {
   "cell_type": "code",
   "execution_count": null,
   "metadata": {},
   "outputs": [],
   "source": []
  },
  {
   "cell_type": "code",
   "execution_count": null,
   "metadata": {},
   "outputs": [],
   "source": []
  },
  {
   "cell_type": "code",
   "execution_count": null,
   "metadata": {
    "collapsed": true
   },
   "outputs": [],
   "source": []
  }
 ],
 "metadata": {
  "kernelspec": {
   "display_name": "Python 3",
   "language": "python",
   "name": "python3"
  },
  "language_info": {
   "codemirror_mode": {
    "name": "ipython",
    "version": 3
   },
   "file_extension": ".py",
   "mimetype": "text/x-python",
   "name": "python",
   "nbconvert_exporter": "python",
   "pygments_lexer": "ipython3",
   "version": "3.6.3"
  }
 },
 "nbformat": 4,
 "nbformat_minor": 2
}
