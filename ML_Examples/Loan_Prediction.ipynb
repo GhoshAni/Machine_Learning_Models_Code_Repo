{
 "cells": [
  {
   "cell_type": "code",
   "execution_count": 95,
   "metadata": {},
   "outputs": [],
   "source": [
    "import numpy as np\n",
    "import pandas as pd\n",
    "import numpy as np\n",
    "import sklearn as sk\n",
    "from sklearn import preprocessing\n",
    "import matplotlib.pyplot as plt\n",
    "plt.rc(\"font\", size = 14)\n",
    "from sklearn.linear_model import LogisticRegression\n",
    "from sklearn.model_selection import train_test_split, RepeatedStratifiedKFold, RandomizedSearchCV, GridSearchCV\n",
    "from sklearn.preprocessing import OneHotEncoder, MinMaxScaler\n",
    "from sklearn.metrics import confusion_matrix, classification_report, roc_auc_score, roc_curve, precision_recall_curve, precision_score,f1_score, recall_score, accuracy_score\n",
    "import seaborn as sns\n",
    "from pprint import pprint\n",
    "sns.set(style=\"white\")\n",
    "sns.set(style =\"whitegrid\", color_codes = True)\n",
    "import os as os\n",
    "import xgboost\n",
    "path = '/Users/apple/Downloads/data/'\n",
    "os.chdir(os.path.join(path))\n",
    "os.getcwd()\n",
    "\n",
    "loan_df = pd.read_csv('loan_approval_dataset.csv', sep = ',', skipinitialspace= True) # remove blank spaces from columns"
   ]
  },
  {
   "cell_type": "code",
   "execution_count": 96,
   "metadata": {},
   "outputs": [
    {
     "name": "stdout",
     "output_type": "stream",
     "text": [
      "(4269, 13)\n"
     ]
    }
   ],
   "source": [
    "print(loan_df.shape)\n",
    "\n",
    "loan_df.rename(columns= lambda x: x.strip(), inplace= True) # remove spaces in the header\n",
    "#loan_df.columns = loan_df.columns.str.replace(' ', '')\n",
    "num_cols = [col for col in loan_df.columns if loan_df[col].dtypes == 'int'] # list of numeric cols\n",
    "cat_cols = [col for col in loan_df.columns if loan_df[col].dtypes == 'O'] # list of categorical cols\n",
    "replace_vals = {'Approved': 1, \n",
    "                'Rejected': 0 }\n",
    "loan_df.replace({'loan_status': replace_vals}, inplace= True) # replace loan status value with 0s & 1s\n",
    "\n"
   ]
  },
  {
   "cell_type": "code",
   "execution_count": 4,
   "metadata": {},
   "outputs": [
    {
     "ename": "NameError",
     "evalue": "name 'loan_df' is not defined",
     "output_type": "error",
     "traceback": [
      "\u001b[0;31m---------------------------------------------------------------------------\u001b[0m",
      "\u001b[0;31mNameError\u001b[0m                                 Traceback (most recent call last)",
      "\u001b[0;32m/var/folders/kq/999szdvs1x32kq9qblnrfp040000gn/T/ipykernel_14373/4259524199.py\u001b[0m in \u001b[0;36m<module>\u001b[0;34m\u001b[0m\n\u001b[1;32m      1\u001b[0m \u001b[0;31m#X =loan_df.iloc[:13]\u001b[0m\u001b[0;34m\u001b[0m\u001b[0;34m\u001b[0m\u001b[0m\n\u001b[0;32m----> 2\u001b[0;31m \u001b[0my\u001b[0m \u001b[0;34m=\u001b[0m \u001b[0mloan_df\u001b[0m\u001b[0;34m[\u001b[0m\u001b[0;34m'loan_status'\u001b[0m\u001b[0;34m]\u001b[0m\u001b[0;34m\u001b[0m\u001b[0;34m\u001b[0m\u001b[0m\n\u001b[0m",
      "\u001b[0;31mNameError\u001b[0m: name 'loan_df' is not defined"
     ]
    }
   ],
   "source": []
  },
  {
   "cell_type": "code",
   "execution_count": null,
   "metadata": {},
   "outputs": [],
   "source": []
  },
  {
   "cell_type": "code",
   "execution_count": null,
   "metadata": {},
   "outputs": [],
   "source": []
  },
  {
   "cell_type": "code",
   "execution_count": null,
   "metadata": {},
   "outputs": [],
   "source": []
  }
 ],
 "metadata": {
  "kernelspec": {
   "display_name": "Python 3",
   "language": "python",
   "name": "python3"
  },
  "language_info": {
   "codemirror_mode": {
    "name": "ipython",
    "version": 3
   },
   "file_extension": ".py",
   "mimetype": "text/x-python",
   "name": "python",
   "nbconvert_exporter": "python",
   "pygments_lexer": "ipython3",
   "version": "3.9.13"
  }
 },
 "nbformat": 4,
 "nbformat_minor": 2
}
