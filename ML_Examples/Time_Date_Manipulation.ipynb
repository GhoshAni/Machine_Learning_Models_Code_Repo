{
 "cells": [
  {
   "cell_type": "code",
   "execution_count": 36,
   "metadata": {},
   "outputs": [],
   "source": [
    "# import the libraries\n",
    "from datetime import datetime, timedelta\n",
    "from dateutil.relativedelta import relativedelta\n",
    "import pandas as pd\n",
    "import datetime as dt\n",
    "import numpy as np"
   ]
  },
  {
   "cell_type": "markdown",
   "metadata": {},
   "source": [
    "##  Time and date manipulation for data wrangling"
   ]
  },
  {
   "cell_type": "code",
   "execution_count": 31,
   "metadata": {},
   "outputs": [
    {
     "name": "stdout",
     "output_type": "stream",
     "text": [
      "2022-11-10 09:08:07\n",
      "2022-11-10 09:08:07.450000\n",
      "2022-11-10 09:08:07.540000\n",
      "1970-01-01 00:00:01.668071287\n"
     ]
    }
   ],
   "source": [
    "print(pd.Timestamp(year=2022, month=11, day=10, hour=9, minute=8, second=7))\n",
    "print(pd.Timestamp(\"2022-11-10 09:08:07.45\"))\n",
    "print(pd.Timestamp(\"Nov 10 2022 09:08:07.54\"))\n",
    "print(pd.Timestamp(1668071287))"
   ]
  },
  {
   "cell_type": "markdown",
   "metadata": {},
   "source": [
    "## Few Examples"
   ]
  },
  {
   "cell_type": "code",
   "execution_count": null,
   "metadata": {},
   "outputs": [],
   "source": [
    "sales_log = sales_log.assign(day_of_week = pd.to_datetime(sales_log['timestamp']).dt.strftime('%A'))\n",
    "sales_log= sales_log.assign(time_of_day = lambda x:  x['timestamp'].dt.hour)\n",
    "sales_log['time_of_day'] = sales_log['time_of_day'].apply(lambda x: 'Morning' if x <12 else 'Early afternoon' if x >= 12 and x <= 15 else 'Late Afternoon')\n",
    "sales_log = sales_log.groupby(['time_of_day', 'day_of_week'])['order_id'].count().to_frame('total_orders').reset_index().sort_values(by  = 'total_orders', ascending = False)\n",
    "sales_log.loc[sales_log['total_orders'] > 1]"
   ]
  },
  {
   "cell_type": "code",
   "execution_count": null,
   "metadata": {},
   "outputs": [],
   "source": [
    "df1 = pd.merge(survey_results, loyalty_customers, how = 'inner', on = 'cust_id' )\n",
    "df1 = df1[ (df1['age'] >= 30) & (df1['age'] < 40) ].groupby(['class'])['satisfaction'].mean().to_frame('avg_score').round().reset_index()\n",
    "df1"
   ]
  },
  {
   "cell_type": "code",
   "execution_count": null,
   "metadata": {},
   "outputs": [],
   "source": [
    "user_streaks.head()\n",
    "user_streaks['date_visited'] = pd.to_datetime(user_streaks['date_visited'])\n",
    "df1 = user_streaks[user_streaks['date_visited'].between(\"2022-01-01\", \"2022-08-07\", inclusive = True)]\n",
    "df1 = df1.groupby('date_visited')['user_id'].nunique().to_frame('n_users').sort_values(by = 'n_users', ascending = False).reset_index()\n",
    "df1['day_of_week'] = df1['date_visited'].dt.day_name()\n",
    "df1['user_rnk'] = df1['n_users'].rank(method = 'dense', ascending = False)\n",
    "df1[['day_of_week', 'date_visited','n_users' ]][df1['user_rnk'] < 3]\n"
   ]
  }
 ],
 "metadata": {
  "kernelspec": {
   "display_name": "base",
   "language": "python",
   "name": "python3"
  },
  "language_info": {
   "codemirror_mode": {
    "name": "ipython",
    "version": 3
   },
   "file_extension": ".py",
   "mimetype": "text/x-python",
   "name": "python",
   "nbconvert_exporter": "python",
   "pygments_lexer": "ipython3",
   "version": "3.9.13"
  },
  "orig_nbformat": 4
 },
 "nbformat": 4,
 "nbformat_minor": 2
}
