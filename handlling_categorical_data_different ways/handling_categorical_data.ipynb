{
 "cells": [
  {
   "cell_type": "code",
   "execution_count": 3,
   "metadata": {},
   "outputs": [],
   "source": [
    "import category_encoders as ce\n",
    "import pandas as pd"
   ]
  },
  {
   "cell_type": "markdown",
   "metadata": {},
   "source": [
    "# Encoding of Ordinal Categorical Variable"
   ]
  },
  {
   "cell_type": "code",
   "execution_count": 8,
   "metadata": {},
   "outputs": [
    {
     "data": {
      "text/html": [
       "<div>\n",
       "<style scoped>\n",
       "    .dataframe tbody tr th:only-of-type {\n",
       "        vertical-align: middle;\n",
       "    }\n",
       "\n",
       "    .dataframe tbody tr th {\n",
       "        vertical-align: top;\n",
       "    }\n",
       "\n",
       "    .dataframe thead th {\n",
       "        text-align: right;\n",
       "    }\n",
       "</style>\n",
       "<table border=\"1\" class=\"dataframe\">\n",
       "  <thead>\n",
       "    <tr style=\"text-align: right;\">\n",
       "      <th></th>\n",
       "      <th>height</th>\n",
       "      <th>transformed</th>\n",
       "    </tr>\n",
       "  </thead>\n",
       "  <tbody>\n",
       "    <tr>\n",
       "      <th>0</th>\n",
       "      <td>tall</td>\n",
       "      <td>1</td>\n",
       "    </tr>\n",
       "    <tr>\n",
       "      <th>1</th>\n",
       "      <td>medium</td>\n",
       "      <td>2</td>\n",
       "    </tr>\n",
       "    <tr>\n",
       "      <th>2</th>\n",
       "      <td>short</td>\n",
       "      <td>3</td>\n",
       "    </tr>\n",
       "    <tr>\n",
       "      <th>3</th>\n",
       "      <td>tall</td>\n",
       "      <td>1</td>\n",
       "    </tr>\n",
       "    <tr>\n",
       "      <th>4</th>\n",
       "      <td>medium</td>\n",
       "      <td>2</td>\n",
       "    </tr>\n",
       "    <tr>\n",
       "      <th>5</th>\n",
       "      <td>short</td>\n",
       "      <td>3</td>\n",
       "    </tr>\n",
       "    <tr>\n",
       "      <th>6</th>\n",
       "      <td>tall</td>\n",
       "      <td>1</td>\n",
       "    </tr>\n",
       "    <tr>\n",
       "      <th>7</th>\n",
       "      <td>medium</td>\n",
       "      <td>2</td>\n",
       "    </tr>\n",
       "    <tr>\n",
       "      <th>8</th>\n",
       "      <td>short</td>\n",
       "      <td>3</td>\n",
       "    </tr>\n",
       "  </tbody>\n",
       "</table>\n",
       "</div>"
      ],
      "text/plain": [
       "   height  transformed\n",
       "0    tall            1\n",
       "1  medium            2\n",
       "2   short            3\n",
       "3    tall            1\n",
       "4  medium            2\n",
       "5   short            3\n",
       "6    tall            1\n",
       "7  medium            2\n",
       "8   short            3"
      ]
     },
     "execution_count": 8,
     "metadata": {},
     "output_type": "execute_result"
    }
   ],
   "source": [
    "df=pd.DataFrame({'height':['tall','medium','short','tall','medium','short','tall','medium','short',]})\n",
    "\n",
    "# create object of Ordinal encoding\n",
    "encoder= ce.OrdinalEncoder(cols=['height'],return_df=True,\n",
    "                           mapping=[{'col':'height',\n",
    "'mapping':{'None':0,'tall':1,'medium':2,'short':3}}])\n",
    "df['transformed'] = encoder.fit_transform(df)\n",
    "df"
   ]
  },
  {
   "cell_type": "markdown",
   "metadata": {},
   "source": [
    "# One hot encoding"
   ]
  },
  {
   "cell_type": "code",
   "execution_count": 9,
   "metadata": {},
   "outputs": [
    {
     "name": "stdout",
     "output_type": "stream",
     "text": [
      "     name\n",
      "0   rahul\n",
      "1   ashok\n",
      "2   ankit\n",
      "3  aditya\n",
      "4    yash\n",
      "5   vipin\n",
      "6    amit\n",
      "   name_rahul  name_ashok  name_ankit  name_aditya  name_yash  name_vipin  \\\n",
      "0         1.0         0.0         0.0          0.0        0.0         0.0   \n",
      "1         0.0         1.0         0.0          0.0        0.0         0.0   \n",
      "2         0.0         0.0         1.0          0.0        0.0         0.0   \n",
      "3         0.0         0.0         0.0          1.0        0.0         0.0   \n",
      "4         0.0         0.0         0.0          0.0        1.0         0.0   \n",
      "5         0.0         0.0         0.0          0.0        0.0         1.0   \n",
      "6         0.0         0.0         0.0          0.0        0.0         0.0   \n",
      "\n",
      "   name_amit  \n",
      "0        0.0  \n",
      "1        0.0  \n",
      "2        0.0  \n",
      "3        0.0  \n",
      "4        0.0  \n",
      "5        0.0  \n",
      "6        1.0  \n"
     ]
    }
   ],
   "source": [
    "df=pd.DataFrame({'name':[\n",
    "'rahul','ashok','ankit','aditya','yash','vipin','amit'\n",
    "]})\n",
    "print(df)\n",
    "\n",
    "one_hot_encoder=ce.OneHotEncoder(cols='name',handle_unknown='return_nan',return_df=True,use_cat_names=True)\n",
    "df_encoded = one_hot_encoder.fit_transform(df)\n",
    "print(df_encoded)\n"
   ]
  },
  {
   "cell_type": "markdown",
   "metadata": {},
   "source": [
    "# Effect encoding"
   ]
  },
  {
   "cell_type": "code",
   "execution_count": 10,
   "metadata": {},
   "outputs": [
    {
     "name": "stdout",
     "output_type": "stream",
     "text": [
      "        City\n",
      "0      Delhi\n",
      "1     Mumbai\n",
      "2  Hyderabad\n",
      "3    Chennai\n",
      "4  Bangalore\n",
      "5      Delhi\n",
      "6  Hyderabad\n",
      "   intercept  City_0  City_1  City_2  City_3\n",
      "0          1     1.0     0.0     0.0     0.0\n",
      "1          1     0.0     1.0     0.0     0.0\n",
      "2          1     0.0     0.0     1.0     0.0\n",
      "3          1     0.0     0.0     0.0     1.0\n",
      "4          1    -1.0    -1.0    -1.0    -1.0\n",
      "5          1     1.0     0.0     0.0     0.0\n",
      "6          1     0.0     0.0     1.0     0.0\n"
     ]
    },
    {
     "name": "stderr",
     "output_type": "stream",
     "text": [
      "/opt/anaconda3/lib/python3.9/site-packages/category_encoders/base_contrast_encoder.py:126: FutureWarning: Intercept column might not be added anymore in future releases (c.f. issue #370)\n",
      "  warnings.warn(\"Intercept column might not be added anymore in future releases (c.f. issue #370)\",\n",
      "/opt/anaconda3/lib/python3.9/site-packages/category_encoders/base_contrast_encoder.py:126: FutureWarning: Intercept column might not be added anymore in future releases (c.f. issue #370)\n",
      "  warnings.warn(\"Intercept column might not be added anymore in future releases (c.f. issue #370)\",\n"
     ]
    }
   ],
   "source": [
    "data=pd.DataFrame({'City':['Delhi','Mumbai','Hyderabad','Chennai','Bangalore','Delhi','Hyderabad']}) \n",
    "print(data)\n",
    "effect_encoder=ce.sum_coding.SumEncoder(cols='City',verbose=False)\n",
    "df=effect_encoder.fit_transform(data)\n",
    "print(df)"
   ]
  },
  {
   "cell_type": "markdown",
   "metadata": {},
   "source": [
    "# Hash Encoder"
   ]
  },
  {
   "cell_type": "code",
   "execution_count": 11,
   "metadata": {},
   "outputs": [
    {
     "name": "stdout",
     "output_type": "stream",
     "text": [
      "       Month\n",
      "0    January\n",
      "1      April\n",
      "2      March\n",
      "3      April\n",
      "4   February\n",
      "5       June\n",
      "6       July\n",
      "7       June\n",
      "8  September\n",
      "   col_0  col_1  col_2  col_3  col_4  col_5\n",
      "0      0      0      0      0      1      0\n",
      "1      0      0      0      1      0      0\n",
      "2      0      0      0      0      1      0\n",
      "3      0      0      0      1      0      0\n",
      "4      0      0      0      0      1      0\n",
      "5      0      1      0      0      0      0\n",
      "6      1      0      0      0      0      0\n",
      "7      0      1      0      0      0      0\n",
      "8      0      0      0      0      1      0\n"
     ]
    }
   ],
   "source": [
    "data=pd.DataFrame({'Month':['January','April','March','April','February','June','July','June','September']})\n",
    "print(data)\n",
    "#Create object for hash encoder\n",
    "encoder=ce.HashingEncoder(cols='Month',n_components=6)#Fit and Transform Data\n",
    "df = encoder.fit_transform(data)\n",
    "print(df)"
   ]
  },
  {
   "cell_type": "markdown",
   "metadata": {},
   "source": [
    "# Dummy Encoding\n",
    "\n",
    " Dummy encoding is similar to one-hot encoding, but unlike that encoding, it allows for only k-1 degrees of freedom. To put it simply, it eliminates the one extra column that we had in one-hot encoding. The category that is left out is called the reference category."
   ]
  },
  {
   "cell_type": "code",
   "execution_count": 17,
   "metadata": {},
   "outputs": [
    {
     "name": "stdout",
     "output_type": "stream",
     "text": [
      "    name\n",
      "0  rahul\n",
      "1  ashok\n",
      "2  ankit\n",
      "   name_ashok  name_rahul\n",
      "0           0           1\n",
      "1           1           0\n",
      "2           0           0\n"
     ]
    }
   ],
   "source": [
    "df=pd.DataFrame({'name':['rahul','ashok','ankit']})\n",
    "print(df)\n",
    "df1 = pd.get_dummies(df, drop_first= True)\n",
    "print(df1)"
   ]
  },
  {
   "cell_type": "code",
   "execution_count": 18,
   "metadata": {},
   "outputs": [
    {
     "name": "stdout",
     "output_type": "stream",
     "text": [
      "    name\n",
      "0  rahul\n",
      "1  ashok\n",
      "2  ankit\n",
      "   name_ankit  name_ashok  name_rahul\n",
      "0           0           0           1\n",
      "1           0           1           0\n",
      "2           1           0           0\n"
     ]
    }
   ],
   "source": [
    "df=pd.DataFrame({'name':['rahul','ashok','ankit']})\n",
    "print(df)\n",
    "df1 = pd.get_dummies(df)\n",
    "print(df1)"
   ]
  },
  {
   "cell_type": "markdown",
   "metadata": {},
   "source": [
    "# handle categorical variables / handle multocollinearity / The dummy variable trap"
   ]
  },
  {
   "cell_type": "code",
   "execution_count": 20,
   "metadata": {},
   "outputs": [
    {
     "name": "stdout",
     "output_type": "stream",
     "text": [
      "    name\n",
      "0  rahul\n",
      "1  ashok\n",
      "2  ankit\n",
      "   name_ankit  name_ashok  name_rahul\n",
      "0           0           0           1\n",
      "1           0           1           0\n",
      "2           1           0           0\n"
     ]
    }
   ],
   "source": [
    "df=pd.DataFrame({'name':['rahul','ashok','ankit']})\n",
    "print(df)\n",
    "df1 = pd.get_dummies(df)\n",
    "print(df1)\n",
    "## the three columns are correlated with each other\n"
   ]
  },
  {
   "cell_type": "code",
   "execution_count": 22,
   "metadata": {},
   "outputs": [
    {
     "name": "stdout",
     "output_type": "stream",
     "text": [
      "   name_rahul\n",
      "0           1\n",
      "1           0\n"
     ]
    }
   ],
   "source": [
    "# solution\n",
    "df=pd.DataFrame({'name':['rahul','ashok']})\n",
    "# drop_first is set to True , k-1 degrees of freedom\n",
    "df1 = pd.get_dummies(df, drop_first= True)\n",
    "print(df1)\n"
   ]
  },
  {
   "cell_type": "markdown",
   "metadata": {},
   "source": [
    "# Mismatched column between train and test set"
   ]
  },
  {
   "cell_type": "code",
   "execution_count": 24,
   "metadata": {},
   "outputs": [
    {
     "data": {
      "text/html": [
       "<div>\n",
       "<style scoped>\n",
       "    .dataframe tbody tr th:only-of-type {\n",
       "        vertical-align: middle;\n",
       "    }\n",
       "\n",
       "    .dataframe tbody tr th {\n",
       "        vertical-align: top;\n",
       "    }\n",
       "\n",
       "    .dataframe thead th {\n",
       "        text-align: right;\n",
       "    }\n",
       "</style>\n",
       "<table border=\"1\" class=\"dataframe\">\n",
       "  <thead>\n",
       "    <tr style=\"text-align: right;\">\n",
       "      <th></th>\n",
       "      <th>Gender</th>\n",
       "      <th>Age</th>\n",
       "      <th>EducationField</th>\n",
       "      <th>MonthlyIncome</th>\n",
       "    </tr>\n",
       "  </thead>\n",
       "  <tbody>\n",
       "    <tr>\n",
       "      <th>0</th>\n",
       "      <td>Female</td>\n",
       "      <td>41</td>\n",
       "      <td>Life Sciences</td>\n",
       "      <td>5993</td>\n",
       "    </tr>\n",
       "    <tr>\n",
       "      <th>1</th>\n",
       "      <td>Male</td>\n",
       "      <td>49</td>\n",
       "      <td>Engineering</td>\n",
       "      <td>5130</td>\n",
       "    </tr>\n",
       "    <tr>\n",
       "      <th>2</th>\n",
       "      <td>Male</td>\n",
       "      <td>37</td>\n",
       "      <td>Life Sciences</td>\n",
       "      <td>2090</td>\n",
       "    </tr>\n",
       "    <tr>\n",
       "      <th>3</th>\n",
       "      <td>Male</td>\n",
       "      <td>33</td>\n",
       "      <td>Life Sciences</td>\n",
       "      <td>2909</td>\n",
       "    </tr>\n",
       "    <tr>\n",
       "      <th>4</th>\n",
       "      <td>Male</td>\n",
       "      <td>27</td>\n",
       "      <td>Medical</td>\n",
       "      <td>3468</td>\n",
       "    </tr>\n",
       "    <tr>\n",
       "      <th>5</th>\n",
       "      <td>Female</td>\n",
       "      <td>32</td>\n",
       "      <td>Life Sciences</td>\n",
       "      <td>3068</td>\n",
       "    </tr>\n",
       "    <tr>\n",
       "      <th>6</th>\n",
       "      <td>Male</td>\n",
       "      <td>59</td>\n",
       "      <td>Life Sciences</td>\n",
       "      <td>2670</td>\n",
       "    </tr>\n",
       "    <tr>\n",
       "      <th>7</th>\n",
       "      <td>Male</td>\n",
       "      <td>30</td>\n",
       "      <td>Life Sciences</td>\n",
       "      <td>2693</td>\n",
       "    </tr>\n",
       "    <tr>\n",
       "      <th>8</th>\n",
       "      <td>Male</td>\n",
       "      <td>38</td>\n",
       "      <td>Engineering</td>\n",
       "      <td>9526</td>\n",
       "    </tr>\n",
       "    <tr>\n",
       "      <th>9</th>\n",
       "      <td>Female</td>\n",
       "      <td>36</td>\n",
       "      <td>Medical</td>\n",
       "      <td>5237</td>\n",
       "    </tr>\n",
       "    <tr>\n",
       "      <th>10</th>\n",
       "      <td>Male</td>\n",
       "      <td>35</td>\n",
       "      <td>Life Sciences</td>\n",
       "      <td>2426</td>\n",
       "    </tr>\n",
       "    <tr>\n",
       "      <th>11</th>\n",
       "      <td>Female</td>\n",
       "      <td>29</td>\n",
       "      <td>Life Sciences</td>\n",
       "      <td>4193</td>\n",
       "    </tr>\n",
       "  </tbody>\n",
       "</table>\n",
       "</div>"
      ],
      "text/plain": [
       "    Gender  Age EducationField  MonthlyIncome\n",
       "0   Female   41  Life Sciences           5993\n",
       "1     Male   49    Engineering           5130\n",
       "2     Male   37  Life Sciences           2090\n",
       "3     Male   33  Life Sciences           2909\n",
       "4     Male   27        Medical           3468\n",
       "5   Female   32  Life Sciences           3068\n",
       "6     Male   59  Life Sciences           2670\n",
       "7     Male   30  Life Sciences           2693\n",
       "8     Male   38    Engineering           9526\n",
       "9   Female   36        Medical           5237\n",
       "10    Male   35  Life Sciences           2426\n",
       "11  Female   29  Life Sciences           4193"
      ]
     },
     "execution_count": 24,
     "metadata": {},
     "output_type": "execute_result"
    }
   ],
   "source": [
    "df = pd.DataFrame({\n",
    "   'Gender' : ['Female', 'Male', 'Male', 'Male', 'Male', 'Female', 'Male', 'Male','Male', 'Female','Male', 'Female'],\n",
    "   'Age' : [41, 49, 37, 33, 27, 32, 59, 30, 38, 36, 35, 29],\n",
    "   'EducationField': ['Life Sciences', 'Engineering', 'Life Sciences', 'Life Sciences', 'Medical', 'Life Sciences', 'Life Sciences', 'Life Sciences', 'Engineering', 'Medical', 'Life Sciences', 'Life Sciences'],\n",
    "   'MonthlyIncome': [5993, 5130, 2090, 2909, 3468, 3068, 2670, 2693, 9526, 5237, 2426, 4193]})\n",
    "df"
   ]
  },
  {
   "cell_type": "code",
   "execution_count": 26,
   "metadata": {},
   "outputs": [
    {
     "name": "stdout",
     "output_type": "stream",
     "text": [
      "    Age  Gender_Female  Gender_Male  EducationField_Engineering  \\\n",
      "10   35              0            1                           0   \n",
      "1    49              0            1                           1   \n",
      "6    59              0            1                           0   \n",
      "0    41              1            0                           0   \n",
      "7    30              0            1                           0   \n",
      "11   29              1            0                           0   \n",
      "9    36              1            0                           0   \n",
      "8    38              0            1                           1   \n",
      "5    32              1            0                           0   \n",
      "\n",
      "    EducationField_Life Sciences  EducationField_Medical  \n",
      "10                             1                       0  \n",
      "1                              0                       0  \n",
      "6                              1                       0  \n",
      "0                              1                       0  \n",
      "7                              1                       0  \n",
      "11                             1                       0  \n",
      "9                              0                       1  \n",
      "8                              0                       0  \n",
      "5                              1                       0  \n",
      "   Age  Gender_Male  EducationField_Life Sciences  EducationField_Medical\n",
      "2   37            1                             1                       0\n",
      "3   33            1                             1                       0\n",
      "4   27            1                             0                       1\n"
     ]
    }
   ],
   "source": [
    "from sklearn.model_selection import train_test_split\n",
    "X = df.drop('MonthlyIncome', axis=1)\n",
    "y = df['MonthlyIncome']\n",
    "X_train, X_test, y_train, y_test = train_test_split(X,y, test_size=0.2, random_state=1)\n",
    "print(pd.get_dummies(X_train))\n",
    "print(pd.get_dummies(X_test))\n",
    "\n",
    "#There is a column mismatch in the training and test set. This means the number of \n",
    "# columns in the training set is not equal to the ones in the test set, and this will introduce an error in the modeling process."
   ]
  },
  {
   "cell_type": "code",
   "execution_count": 27,
   "metadata": {},
   "outputs": [
    {
     "data": {
      "text/html": [
       "<div>\n",
       "<style scoped>\n",
       "    .dataframe tbody tr th:only-of-type {\n",
       "        vertical-align: middle;\n",
       "    }\n",
       "\n",
       "    .dataframe tbody tr th {\n",
       "        vertical-align: top;\n",
       "    }\n",
       "\n",
       "    .dataframe thead th {\n",
       "        text-align: right;\n",
       "    }\n",
       "</style>\n",
       "<table border=\"1\" class=\"dataframe\">\n",
       "  <thead>\n",
       "    <tr style=\"text-align: right;\">\n",
       "      <th></th>\n",
       "      <th>Age</th>\n",
       "      <th>Gender_Female</th>\n",
       "      <th>Gender_Male</th>\n",
       "      <th>EducationField_Engineering</th>\n",
       "      <th>EducationField_Life Sciences</th>\n",
       "      <th>EducationField_Medical</th>\n",
       "    </tr>\n",
       "  </thead>\n",
       "  <tbody>\n",
       "    <tr>\n",
       "      <th>10</th>\n",
       "      <td>35</td>\n",
       "      <td>0</td>\n",
       "      <td>1</td>\n",
       "      <td>0</td>\n",
       "      <td>1</td>\n",
       "      <td>0</td>\n",
       "    </tr>\n",
       "    <tr>\n",
       "      <th>1</th>\n",
       "      <td>49</td>\n",
       "      <td>0</td>\n",
       "      <td>1</td>\n",
       "      <td>1</td>\n",
       "      <td>0</td>\n",
       "      <td>0</td>\n",
       "    </tr>\n",
       "    <tr>\n",
       "      <th>6</th>\n",
       "      <td>59</td>\n",
       "      <td>0</td>\n",
       "      <td>1</td>\n",
       "      <td>0</td>\n",
       "      <td>1</td>\n",
       "      <td>0</td>\n",
       "    </tr>\n",
       "  </tbody>\n",
       "</table>\n",
       "</div>"
      ],
      "text/plain": [
       "    Age  Gender_Female  Gender_Male  EducationField_Engineering  \\\n",
       "10   35              0            1                           0   \n",
       "1    49              0            1                           1   \n",
       "6    59              0            1                           0   \n",
       "\n",
       "    EducationField_Life Sciences  EducationField_Medical  \n",
       "10                             1                       0  \n",
       "1                              0                       0  \n",
       "6                              1                       0  "
      ]
     },
     "execution_count": 27,
     "metadata": {},
     "output_type": "execute_result"
    }
   ],
   "source": [
    "# Dummy encoding Training set\n",
    "X_train_encoded = pd.get_dummies(X_train)\n",
    "# Saving the columns in a list\n",
    "cols = X_train_encoded.columns.tolist()\n",
    "# Viewing the first three rows of the encoded dataframe\n",
    "X_train_encoded[:3]"
   ]
  },
  {
   "cell_type": "code",
   "execution_count": 28,
   "metadata": {},
   "outputs": [
    {
     "data": {
      "text/html": [
       "<div>\n",
       "<style scoped>\n",
       "    .dataframe tbody tr th:only-of-type {\n",
       "        vertical-align: middle;\n",
       "    }\n",
       "\n",
       "    .dataframe tbody tr th {\n",
       "        vertical-align: top;\n",
       "    }\n",
       "\n",
       "    .dataframe thead th {\n",
       "        text-align: right;\n",
       "    }\n",
       "</style>\n",
       "<table border=\"1\" class=\"dataframe\">\n",
       "  <thead>\n",
       "    <tr style=\"text-align: right;\">\n",
       "      <th></th>\n",
       "      <th>Age</th>\n",
       "      <th>Gender_Female</th>\n",
       "      <th>Gender_Male</th>\n",
       "      <th>EducationField_Engineering</th>\n",
       "      <th>EducationField_Life Sciences</th>\n",
       "      <th>EducationField_Medical</th>\n",
       "    </tr>\n",
       "  </thead>\n",
       "  <tbody>\n",
       "    <tr>\n",
       "      <th>2</th>\n",
       "      <td>37</td>\n",
       "      <td>0.0</td>\n",
       "      <td>1</td>\n",
       "      <td>0.0</td>\n",
       "      <td>1</td>\n",
       "      <td>0</td>\n",
       "    </tr>\n",
       "    <tr>\n",
       "      <th>3</th>\n",
       "      <td>33</td>\n",
       "      <td>0.0</td>\n",
       "      <td>1</td>\n",
       "      <td>0.0</td>\n",
       "      <td>1</td>\n",
       "      <td>0</td>\n",
       "    </tr>\n",
       "    <tr>\n",
       "      <th>4</th>\n",
       "      <td>27</td>\n",
       "      <td>0.0</td>\n",
       "      <td>1</td>\n",
       "      <td>0.0</td>\n",
       "      <td>0</td>\n",
       "      <td>1</td>\n",
       "    </tr>\n",
       "  </tbody>\n",
       "</table>\n",
       "</div>"
      ],
      "text/plain": [
       "   Age  Gender_Female  Gender_Male  EducationField_Engineering  \\\n",
       "2   37            0.0            1                         0.0   \n",
       "3   33            0.0            1                         0.0   \n",
       "4   27            0.0            1                         0.0   \n",
       "\n",
       "   EducationField_Life Sciences  EducationField_Medical  \n",
       "2                             1                       0  \n",
       "3                             1                       0  \n",
       "4                             0                       1  "
      ]
     },
     "execution_count": 28,
     "metadata": {},
     "output_type": "execute_result"
    }
   ],
   "source": [
    "X_test_encoded = pd.get_dummies(X_test)\n",
    "X_test_encoded = X_test_encoded.reindex(columns=cols).fillna(0)\n",
    "X_test_encoded"
   ]
  },
  {
   "cell_type": "markdown",
   "metadata": {},
   "source": [
    "One hot encoding also solves the problem\n"
   ]
  },
  {
   "cell_type": "code",
   "execution_count": 31,
   "metadata": {},
   "outputs": [
    {
     "name": "stderr",
     "output_type": "stream",
     "text": [
      "/opt/anaconda3/lib/python3.9/site-packages/sklearn/utils/deprecation.py:87: FutureWarning: Function get_feature_names is deprecated; get_feature_names is deprecated in 1.0 and will be removed in 1.2. Please use get_feature_names_out instead.\n",
      "  warnings.warn(msg, category=FutureWarning)\n"
     ]
    },
    {
     "data": {
      "text/html": [
       "<div>\n",
       "<style scoped>\n",
       "    .dataframe tbody tr th:only-of-type {\n",
       "        vertical-align: middle;\n",
       "    }\n",
       "\n",
       "    .dataframe tbody tr th {\n",
       "        vertical-align: top;\n",
       "    }\n",
       "\n",
       "    .dataframe thead th {\n",
       "        text-align: right;\n",
       "    }\n",
       "</style>\n",
       "<table border=\"1\" class=\"dataframe\">\n",
       "  <thead>\n",
       "    <tr style=\"text-align: right;\">\n",
       "      <th></th>\n",
       "      <th>x0_Male</th>\n",
       "      <th>x1_Engineering</th>\n",
       "      <th>x1_Life Sciences</th>\n",
       "      <th>x1_Medical</th>\n",
       "    </tr>\n",
       "  </thead>\n",
       "  <tbody>\n",
       "    <tr>\n",
       "      <th>0</th>\n",
       "      <td>1.0</td>\n",
       "      <td>0.0</td>\n",
       "      <td>1.0</td>\n",
       "      <td>0.0</td>\n",
       "    </tr>\n",
       "    <tr>\n",
       "      <th>1</th>\n",
       "      <td>1.0</td>\n",
       "      <td>1.0</td>\n",
       "      <td>0.0</td>\n",
       "      <td>0.0</td>\n",
       "    </tr>\n",
       "    <tr>\n",
       "      <th>2</th>\n",
       "      <td>1.0</td>\n",
       "      <td>0.0</td>\n",
       "      <td>1.0</td>\n",
       "      <td>0.0</td>\n",
       "    </tr>\n",
       "  </tbody>\n",
       "</table>\n",
       "</div>"
      ],
      "text/plain": [
       "   x0_Male  x1_Engineering  x1_Life Sciences  x1_Medical\n",
       "0      1.0             0.0               1.0         0.0\n",
       "1      1.0             1.0               0.0         0.0\n",
       "2      1.0             0.0               1.0         0.0"
      ]
     },
     "execution_count": 31,
     "metadata": {},
     "output_type": "execute_result"
    }
   ],
   "source": [
    "from sklearn.preprocessing import OneHotEncoder\n",
    "\n",
    "ohe = OneHotEncoder(sparse=False, handle_unknown='ignore', drop= 'if_binary')\n",
    "train_enc = ohe.fit_transform(X_train[['Gender','EducationField']])\n",
    "\n",
    "pd.DataFrame(train_enc, columns=ohe.get_feature_names())[:3]"
   ]
  },
  {
   "cell_type": "code",
   "execution_count": 32,
   "metadata": {},
   "outputs": [
    {
     "name": "stderr",
     "output_type": "stream",
     "text": [
      "/opt/anaconda3/lib/python3.9/site-packages/sklearn/utils/deprecation.py:87: FutureWarning: Function get_feature_names is deprecated; get_feature_names is deprecated in 1.0 and will be removed in 1.2. Please use get_feature_names_out instead.\n",
      "  warnings.warn(msg, category=FutureWarning)\n"
     ]
    },
    {
     "data": {
      "text/html": [
       "<div>\n",
       "<style scoped>\n",
       "    .dataframe tbody tr th:only-of-type {\n",
       "        vertical-align: middle;\n",
       "    }\n",
       "\n",
       "    .dataframe tbody tr th {\n",
       "        vertical-align: top;\n",
       "    }\n",
       "\n",
       "    .dataframe thead th {\n",
       "        text-align: right;\n",
       "    }\n",
       "</style>\n",
       "<table border=\"1\" class=\"dataframe\">\n",
       "  <thead>\n",
       "    <tr style=\"text-align: right;\">\n",
       "      <th></th>\n",
       "      <th>x0_Male</th>\n",
       "      <th>x1_Medical</th>\n",
       "    </tr>\n",
       "  </thead>\n",
       "  <tbody>\n",
       "    <tr>\n",
       "      <th>0</th>\n",
       "      <td>1.0</td>\n",
       "      <td>0.0</td>\n",
       "    </tr>\n",
       "    <tr>\n",
       "      <th>1</th>\n",
       "      <td>1.0</td>\n",
       "      <td>0.0</td>\n",
       "    </tr>\n",
       "    <tr>\n",
       "      <th>2</th>\n",
       "      <td>1.0</td>\n",
       "      <td>1.0</td>\n",
       "    </tr>\n",
       "  </tbody>\n",
       "</table>\n",
       "</div>"
      ],
      "text/plain": [
       "   x0_Male  x1_Medical\n",
       "0      1.0         0.0\n",
       "1      1.0         0.0\n",
       "2      1.0         1.0"
      ]
     },
     "execution_count": 32,
     "metadata": {},
     "output_type": "execute_result"
    }
   ],
   "source": [
    "# Transforming the test set\n",
    "test_enc = ohe.fit_transform(X_test[['Gender','EducationField']])\n",
    "#Converting back to a dataframe\n",
    "pd.DataFrame(test_enc,columns=ohe.get_feature_names())"
   ]
  },
  {
   "cell_type": "markdown",
   "metadata": {},
   "source": [
    "# Feature hashing (hashing trick)\n",
    "\n",
    "Feature hashing uses a hash function (a function that maps data of arbitrary size to a fixed size) to transform each category into an integer. These integers will be contained within a prescribed range. Feature hashing is very similar to one-hot encoding in the sense that each category gets an integer but, unlike the one-hot encoding, it gives control over the output dimensions. Therefore, on a high cardinality data set, the user can limit the number of new features that are added due to the encoding. This improves computational efficiency. The price that has to be paid is that, unlike the one-hot encoding, the distance between any pair of categories is not guaranteed to be preserved. In an extreme case, different categories may be mapped into the same integer (a problem known as hash collision). "
   ]
  },
  {
   "cell_type": "markdown",
   "metadata": {},
   "source": [
    "One-hot Encoding\n",
    "\n",
    "In the simplest of all cases, we have low and fixed cardinality. In such a case, we can have a model feature for each possible value that the variable can take on and set all of these features to zero except for the one corresponding to the value of our categorical feature. This works great and is known as one-hot encoding. This might lead to encoding days of the week as Monday =  (1,0,0,0,0,0,0)\n",
    " , Tuesday =  (0,1,0,0,0,0,0)\n",
    "  and so on.\n",
    "\n",
    "Rare-word Collapse\n",
    "\n",
    "As the cardinality increases, however, this works less and less well, largely because some values will be much more rare than other values and increasing the number of features to a model beyond a few thousand generally has very bad effects on the ability to build a model. Even worse, high cardinality generally goes hand in hand with indefinite cardinality. Even so, it is common in natural language models to simply group all but the  𝑘\n",
    "  most common values of a categorical variable as a single “RARE-WORD” value. This reduction allows us to have a  𝑘+1\n",
    " -hot encoding. If  𝑘\n",
    "  is big enough, this will work pretty well because the “RARE-WORD” value will itself be pretty rare.\n",
    "\n",
    "Frequency Binning\n",
    "\n",
    "We can take this idea of collapsing to a radical and surprisingly effective extreme. This is done by reducing a high cardinality categorical feature to a single number that represents the frequency of the value of the feature. Alternately, you might use the quantile of the rank of the frequency, or bin the frequency of the value. In any case, this works in applications where a specific value isn’t as important as the fact that you have seen a surprisingly rare value. Consider, network intrusion detection where suddenly seeing lots of data going to a previously almost unknown external network address could be very informative. It doesn’t really matter which previously unknown address is being used, just that it is previously unknown or nearly so. Note that you can combine this kind of frequency feature with other features as well so that you not only get these desirable novelty effects, but you can keep the precise resolution about exactly which categorical value was seen.\n",
    "\n",
    "Random Embedding\n",
    "\n",
    "Another way to keep a fixed sized encoding with values of large or unknown cardinality without collapsing rare values together is to use a random embedding or projection. One simple way to do this is convert each possible value to a 50–300 dimensional vector. Commonly, these vectors will be constrained to have unit length You can actually do this in a consistent way without knowing the categorical values ahead of time by using the actual value as a seed for a random number generator and then using that generator to sample a “random” unit vector. If the dimension of the vector is high enough (say 100 to 500 dimensions or more) then the vectors corresponding to any two categorical values will be nearly orthogonal with high probability. This quasi-orthogonality of random vectors is very handy since it makes each different value be sufficiently different from all other values so that machine learning algorithms can pick out important structure.\n",
    "\n",
    "These random vectors can also be tuned somewhat using simple techniques to build a semantic space, or using more advanced techniques to get some very fancy results. Such random projections can be used to do linear algebraic decompositions as well.\n",
    "\n",
    "The Hash Trick\n",
    "\n",
    "We can use different random projections to get something much more like the one-hot encoding as well without having to collapse rare features or, indeed, without having to even know which features are rare. For each distinct value, we can encode that value using a  𝑛\n",
    "  binary values of which exactly  𝑘\n",
    "  randomly chosen values are set to 1 with the rest set to 0 using the same seeding trick as before. Commonly  𝑛\n",
    "  is taken to be a few thousand while  𝑘\n",
    "  can be relatively small, typically less than 20. When  𝑘=1\n",
    " , we get one-hot encoding again. This technique works because of the same mathematical techniques as random projection, but is generally described more in terms of analogies to Bloom filters.\n",
    "\n",
    "Luduan Features\n",
    "\n",
    "Finally, you can derive a numerical features by grouping values that have anomalous correlation with some objective observation and then weighting by the underlying frequency of the feature value (or the inverse log of that frequency). This reduction is known as a Luduan feature and is based on the use of log-likelihood ratio tests for finding interesting cooccurrence. I gave a talk on using these techniques for transaction mining some time ago that described how to do this."
   ]
  },
  {
   "cell_type": "code",
   "execution_count": null,
   "metadata": {},
   "outputs": [],
   "source": []
  },
  {
   "cell_type": "code",
   "execution_count": null,
   "metadata": {},
   "outputs": [],
   "source": []
  }
 ],
 "metadata": {
  "kernelspec": {
   "display_name": "base",
   "language": "python",
   "name": "python3"
  },
  "language_info": {
   "codemirror_mode": {
    "name": "ipython",
    "version": 3
   },
   "file_extension": ".py",
   "mimetype": "text/x-python",
   "name": "python",
   "nbconvert_exporter": "python",
   "pygments_lexer": "ipython3",
   "version": "3.9.13"
  },
  "orig_nbformat": 4
 },
 "nbformat": 4,
 "nbformat_minor": 2
}
