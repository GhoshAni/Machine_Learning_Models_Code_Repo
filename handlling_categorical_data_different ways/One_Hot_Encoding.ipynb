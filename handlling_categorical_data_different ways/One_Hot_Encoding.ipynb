{
 "cells": [
  {
   "cell_type": "code",
   "execution_count": 2,
   "metadata": {},
   "outputs": [],
   "source": [
    "import pandas as pd;\n",
    "import os;\n",
    "from sklearn.model_selection import train_test_split;\n",
    "from sklearn.preprocessing import OneHotEncoder;\n",
    "#from feature_engine.categorical_encoders import OneHotCategoricalEncoder"
   ]
  },
  {
   "cell_type": "code",
   "execution_count": 22,
   "metadata": {},
   "outputs": [],
   "source": [
    "path = '/Users/apple/Downloads/data'\n",
    "os.chdir(os.path.join(path))\n",
    "os.getcwd()\n",
    "from ucimlrepo import fetch_ucirepo \n",
    "  \n",
    "# fetch dataset \n",
    "credit_approval = fetch_ucirepo(id=27) \n",
    "  \n",
    "# data (as pandas dataframes) \n",
    "X = pd.DataFrame(credit_approval.data.features )\n",
    "y = pd.DataFrame(credit_approval.data.targets)\n",
    "  \n",
    "nums_col = [i for i in X.columns if X[i].dtypes == 'float64']\n",
    "cat_col = [i for i in X.columns if X[i].dtypes == 'O']"
   ]
  },
  {
   "cell_type": "code",
   "execution_count": 28,
   "metadata": {},
   "outputs": [
    {
     "name": "stdout",
     "output_type": "stream",
     "text": [
      "(483, 15)\n",
      "(207, 15)\n",
      "(483, 1)\n",
      "(207, 1)\n"
     ]
    }
   ],
   "source": [
    "X_train, X_test, y_train, y_test = train_test_split(X, y, test_size= 0.3, random_state= 0)\n",
    "\n",
    "print(X_train.shape)\n",
    "print(X_test.shape)\n",
    "print(y_train.shape)\n",
    "print(y_test.shape)"
   ]
  },
  {
   "cell_type": "markdown",
   "metadata": {},
   "source": [
    "# One Hot Encoding with Scikit learn\n"
   ]
  },
  {
   "cell_type": "code",
   "execution_count": 43,
   "metadata": {},
   "outputs": [],
   "source": [
    "One_Hot_Encoder = OneHotEncoder(categories= 'auto', \n",
    "                                drop= 'first', # return k-1 values\n",
    "                                sparse= False)\n",
    "\n",
    "One_Hot_Encoder.fit(X_train[cat_col])\n",
    "\n",
    "# fit on train and test data\n",
    "\n",
    "X_train_transformed = pd.DataFrame(One_Hot_Encoder.transform(X_train[cat_col]))\n",
    "X_test_transformed = pd.DataFrame(One_Hot_Encoder.transform(X_test[cat_col]))"
   ]
  },
  {
   "cell_type": "code",
   "execution_count": 45,
   "metadata": {},
   "outputs": [],
   "source": [
    "X_train_1 = pd.merge(X_train[nums_col],X_train_transformed, left_index= True, right_index= True )\n",
    "X_test1 = pd.merge(X_test[nums_col], X_test_transformed, left_index = True, right_index = True )"
   ]
  },
  {
   "cell_type": "code",
   "execution_count": 46,
   "metadata": {},
   "outputs": [
    {
     "data": {
      "text/plain": [
       "Index(['A14',  'A8',  'A3',  'A2',     0,     1,     2,     3,     4,     5,\n",
       "           6,     7,     8,     9,    10,    11,    12,    13,    14,    15,\n",
       "          16,    17,    18,    19,    20,    21,    22,    23,    24,    25,\n",
       "          26,    27,    28,    29,    30,    31,    32,    33,    34,    35],\n",
       "      dtype='object')"
      ]
     },
     "execution_count": 46,
     "metadata": {},
     "output_type": "execute_result"
    }
   ],
   "source": [
    "X_test1.columns\n",
    "#X_train[nums_col].columns"
   ]
  }
 ],
 "metadata": {
  "kernelspec": {
   "display_name": "base",
   "language": "python",
   "name": "python3"
  },
  "language_info": {
   "codemirror_mode": {
    "name": "ipython",
    "version": 3
   },
   "file_extension": ".py",
   "mimetype": "text/x-python",
   "name": "python",
   "nbconvert_exporter": "python",
   "pygments_lexer": "ipython3",
   "version": "3.9.13"
  },
  "orig_nbformat": 4
 },
 "nbformat": 4,
 "nbformat_minor": 2
}
